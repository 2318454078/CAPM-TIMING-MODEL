{
 "cells": [
  {
   "cell_type": "code",
   "execution_count": 3,
   "metadata": {},
   "outputs": [],
   "source": [
    "import pandas as pd\n",
    "import numpy as np\n",
    "\n",
    "zhongxin = pd.read_excel('中信行业指数一级行业(日).xlsx')\n",
    "zhongxindate = zhongxin['时间']\n",
    "zhongxinarray = zhongxin.iloc[0:,1:].to_numpy()\n",
    "\n",
    "windweek = pd.read_excel('WindA.xlsx')\n",
    "weekarray = windweek.iloc[0:,1:].to_numpy()\n",
    "weekdate = windweek['日期']\n",
    "\n",
    "hsweek = pd.read_excel('hs300.xlsx')\n",
    "hsarray = hsweek.iloc[0:,3:].to_numpy()\n",
    "hsdate = hsweek['日期']\n",
    "\n",
    "ptr0 = 0\n",
    "ptr1 = 0\n",
    "ptr2 = 0\n",
    "datelist = []\n",
    "ptr0list = []\n",
    "ptr1list = []\n",
    "ptr2list = []\n",
    "for ptr0 in range(len(weekdate)):\n",
    "    while(hsdate[ptr1] < weekdate[ptr0]):\n",
    "        ptr1 = ptr1 + 1\n",
    "    while(zhongxindate[ptr2] < weekdate[ptr0]):\n",
    "        ptr2 = ptr2 + 1\n",
    "    if hsdate[ptr1] == weekdate[ptr0] and zhongxindate[ptr2] == weekdate[ptr0]:\n",
    "        datelist.append(hsdate[ptr1])\n",
    "        ptr0list.append(weekarray[ptr0, 3])\n",
    "        ptr1list.append(hsarray[ptr1,3])\n",
    "        ptr2list.append(zhongxinarray[ptr2, :])"
   ]
  },
  {
   "cell_type": "code",
   "execution_count": 5,
   "metadata": {},
   "outputs": [],
   "source": [
    "all_data = np.hstack((np.array(datelist).reshape(-1,1), np.array(ptr0list).reshape(-1,1), np.array(ptr1list).reshape(-1,1), np.stack(ptr2list)))\n",
    "np.save(\"all_data.npy\",all_data)"
   ]
  }
 ],
 "metadata": {
  "interpreter": {
   "hash": "fcfa444136600de896f6b9239c7d1e423abd4f41b7749af1372c95d2a5685803"
  },
  "kernelspec": {
   "display_name": "Python 3.8.12 64-bit ('stock': conda)",
   "language": "python",
   "name": "python3"
  },
  "language_info": {
   "codemirror_mode": {
    "name": "ipython",
    "version": 3
   },
   "file_extension": ".py",
   "mimetype": "text/x-python",
   "name": "python",
   "nbconvert_exporter": "python",
   "pygments_lexer": "ipython3",
   "version": "3.8.12"
  },
  "orig_nbformat": 4
 },
 "nbformat": 4,
 "nbformat_minor": 2
}
